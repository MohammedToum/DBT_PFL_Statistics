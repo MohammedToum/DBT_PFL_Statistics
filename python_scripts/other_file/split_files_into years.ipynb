{
 "cells": [
  {
   "cell_type": "code",
   "execution_count": 9,
   "id": "832dab40-cb6b-4be5-83dc-16d41a59fe56",
   "metadata": {},
   "outputs": [
    {
     "name": "stdout",
     "output_type": "stream",
     "text": [
      "CWD: /Users/mohammed/repos/GreatLockIn2025/dbt_projects/dbt_football_project/DBT_PFL_Statistics/python_scripts/other_file\n"
     ]
    }
   ],
   "source": [
    "import os\n",
    "from pathlib import Path\n",
    "\n",
    "import duckdb\n",
    "import pandas as pd\n",
    "from IPython.core.magic import register_cell_magic\n",
    "\n",
    "############ Done but exports into the wrong folder ############\n",
    "\n",
    "cwd = os.getcwd()\n",
    "print(f\"CWD: {cwd}\")\n",
    "\n",
    "pd.set_option(\"display.max_rows\", 20)  # show all rows\n",
    "pd.set_option(\"display.max_columns\", None)  # show all columns\n",
    "pd.set_option(\"display.max_colwidth\", None)  # don't truncate text\n",
    "pd.set_option(\"display.expand_frame_repr\", False)  # don't wrap across lines\n",
    "\n",
    "\n",
    "# 1) Where to store the DuckDB database file (change if you want it elsewhere)\n",
    "DB_PATH = Path(\"./plt.duckdb\")\n",
    "DB_PATH.parent.mkdir(parents=True, exist_ok=True)\n",
    "# print(DB_PATH)\n",
    "con = duckdb.connect(str(DB_PATH))\n",
    "\n",
    "\n",
    "@register_cell_magic\n",
    "def ducksql(line, cell):\n",
    "    res = con.sql(cell)\n",
    "    try:\n",
    "        display(res.df())\n",
    "    except Exception:\n",
    "        print(\"OK\")"
   ]
  },
  {
   "cell_type": "code",
   "execution_count": 10,
   "id": "9a87d330-316e-4dd7-9cd1-5821562d900d",
   "metadata": {},
   "outputs": [
    {
     "name": "stdout",
     "output_type": "stream",
     "text": [
      "/Users/mohammed/repos/GreatLockIn2025/dbt_projects/dbt_football_project/DBT_PFL_Statistics/python_scripts/other_file\n"
     ]
    },
    {
     "ename": "CatalogException",
     "evalue": "Catalog Error: Table with name transfers_all does not exist!\nDid you mean \"temp.information_schema.character_sets\"?",
     "output_type": "error",
     "traceback": [
      "\u001b[31m---------------------------------------------------------------------------\u001b[39m",
      "\u001b[31mCatalogException\u001b[39m                          Traceback (most recent call last)",
      "\u001b[36mCell\u001b[39m\u001b[36m \u001b[39m\u001b[32mIn[10]\u001b[39m\u001b[32m, line 13\u001b[39m\n\u001b[32m      9\u001b[39m \u001b[38;5;28;01mimport\u001b[39;00m\u001b[38;5;250m \u001b[39m\u001b[34;01mos\u001b[39;00m; \u001b[38;5;28mprint\u001b[39m(os.getcwd())\n\u001b[32m     12\u001b[39m \u001b[38;5;66;03m# 2) Get years\u001b[39;00m\n\u001b[32m---> \u001b[39m\u001b[32m13\u001b[39m years = [r[\u001b[32m0\u001b[39m] \u001b[38;5;28;01mfor\u001b[39;00m r \u001b[38;5;129;01min\u001b[39;00m \u001b[43mcon\u001b[49m\u001b[43m.\u001b[49m\u001b[43msql\u001b[49m\u001b[43m(\u001b[49m\u001b[33;43m\"\"\"\u001b[39;49m\n\u001b[32m     14\u001b[39m \u001b[33;43m    SELECT DISTINCT CAST(year AS INT)\u001b[39;49m\n\u001b[32m     15\u001b[39m \u001b[33;43m    FROM staging.transfers_all\u001b[39;49m\n\u001b[32m     16\u001b[39m \u001b[33;43m    WHERE year IS NOT NULL\u001b[39;49m\n\u001b[32m     17\u001b[39m \u001b[33;43m    ORDER BY 1\u001b[39;49m\n\u001b[32m     18\u001b[39m \u001b[33;43m\"\"\"\u001b[39;49m\u001b[43m)\u001b[49m.fetchall()]\n\u001b[32m     20\u001b[39m \u001b[38;5;66;03m# 3) Ensure target schema\u001b[39;00m\n\u001b[32m     21\u001b[39m con.sql(\u001b[33m\"\u001b[39m\u001b[33mCREATE SCHEMA IF NOT EXISTS marts\u001b[39m\u001b[33m\"\u001b[39m)\n",
      "\u001b[31mCatalogException\u001b[39m: Catalog Error: Table with name transfers_all does not exist!\nDid you mean \"temp.information_schema.character_sets\"?"
     ]
    }
   ],
   "source": [
    "import csv\n",
    "from pathlib import Path\n",
    "\n",
    "import duckdb\n",
    "\n",
    "# 1) Where to write files\n",
    "SEED_DIR = Path(\"./dbt/seeds/split_files\")\n",
    "SEED_DIR.mkdir(parents=True, exist_ok=True)\n",
    "\n",
    "\n",
    "import os\n",
    "\n",
    "print(os.getcwd())\n",
    "\n",
    "\n",
    "# 2) Get years\n",
    "years = [\n",
    "    r[0]\n",
    "    for r in con.sql(\"\"\"\n",
    "    SELECT DISTINCT CAST(year AS INT)\n",
    "    FROM staging.transfers_all\n",
    "    WHERE year IS NOT NULL\n",
    "    ORDER BY 1\n",
    "\"\"\").fetchall()\n",
    "]\n",
    "\n",
    "# 3) Ensure target schema\n",
    "con.sql(\"CREATE SCHEMA IF NOT EXISTS marts\")\n",
    "\n",
    "# 4) Build per-year tables + export\n",
    "for y in years:\n",
    "    con.sql(f\"\"\"\n",
    "        CREATE OR REPLACE TABLE marts.transfers_{y} AS\n",
    "        SELECT *\n",
    "        FROM staging.transfers_all\n",
    "        WHERE CAST(year AS INT) = {y}\n",
    "    \"\"\")\n",
    "    out = SEED_DIR / f\"premier_league_{y}.csv\"\n",
    "\n",
    "    # EASIEST: let DuckDB write the CSV (fast, correct headers)\n",
    "    con.execute(f\"\"\"\n",
    "        COPY (SELECT * FROM marts.transfers_{y})\n",
    "        TO '{out.as_posix()}'\n",
    "        (HEADER, DELIMITER ',');\n",
    "    \"\"\")\n",
    "\n",
    "    print(f\"wrote {out}\")"
   ]
  },
  {
   "cell_type": "code",
   "execution_count": 11,
   "id": "4fbe175f-6b4c-42b5-b8b8-08604b3259a9",
   "metadata": {},
   "outputs": [
    {
     "ename": "CatalogException",
     "evalue": "Catalog Error: Schema with name staging does not exist!",
     "output_type": "error",
     "traceback": [
      "\u001b[31m---------------------------------------------------------------------------\u001b[39m",
      "\u001b[31mCatalogException\u001b[39m                          Traceback (most recent call last)",
      "\u001b[36mCell\u001b[39m\u001b[36m \u001b[39m\u001b[32mIn[11]\u001b[39m\u001b[32m, line 2\u001b[39m\n\u001b[32m      1\u001b[39m \u001b[38;5;28;01mtry\u001b[39;00m:\n\u001b[32m----> \u001b[39m\u001b[32m2\u001b[39m     years = \u001b[43mcon\u001b[49m\u001b[43m.\u001b[49m\u001b[43msql\u001b[49m\u001b[43m(\u001b[49m\u001b[33;43m\"\u001b[39;49m\u001b[33;43mSELECT DISTINCT CAST(year AS INT) y FROM staging.transfers_all WHERE year IS NOT NULL ORDER BY y\u001b[39;49m\u001b[33;43m\"\u001b[39;49m\u001b[43m)\u001b[49m.fetchall()\n\u001b[32m      3\u001b[39m     source_view = \u001b[33m\"\u001b[39m\u001b[33mstaging.transfers_all\u001b[39m\u001b[33m\"\u001b[39m\n",
      "\u001b[31mCatalogException\u001b[39m: Catalog Error: Table with name transfers_all does not exist!\nDid you mean \"temp.information_schema.character_sets\"?",
      "\nDuring handling of the above exception, another exception occurred:\n",
      "\u001b[31mCatalogException\u001b[39m                          Traceback (most recent call last)",
      "\u001b[36mCell\u001b[39m\u001b[36m \u001b[39m\u001b[32mIn[11]\u001b[39m\u001b[32m, line 6\u001b[39m\n\u001b[32m      4\u001b[39m     year_col = \u001b[33m\"\u001b[39m\u001b[33myear\u001b[39m\u001b[33m\"\u001b[39m\n\u001b[32m      5\u001b[39m \u001b[38;5;28;01mexcept\u001b[39;00m \u001b[38;5;167;01mException\u001b[39;00m:\n\u001b[32m----> \u001b[39m\u001b[32m6\u001b[39m     \u001b[43mcon\u001b[49m\u001b[43m.\u001b[49m\u001b[43msql\u001b[49m\u001b[43m(\u001b[49m\u001b[33;43m\"\"\"\u001b[39;49m\n\u001b[32m      7\u001b[39m \u001b[33;43m        CREATE OR REPLACE VIEW staging.transfers_all_w_year AS\u001b[39;49m\n\u001b[32m      8\u001b[39m \u001b[33;43m        SELECT *, CAST(strftime(try_cast(transfer_date AS DATE), \u001b[39;49m\u001b[33;43m'\u001b[39;49m\u001b[33;43m%\u001b[39;49m\u001b[33;43mY\u001b[39;49m\u001b[33;43m'\u001b[39;49m\u001b[33;43m) AS INT) AS yr\u001b[39;49m\n\u001b[32m      9\u001b[39m \u001b[33;43m        FROM staging.transfers_all\u001b[39;49m\n\u001b[32m     10\u001b[39m \u001b[33;43m    \u001b[39;49m\u001b[33;43m\"\"\"\u001b[39;49m\u001b[43m)\u001b[49m\n\u001b[32m     11\u001b[39m     years = con.sql(\u001b[33m\"\u001b[39m\u001b[33mSELECT DISTINCT yr AS y FROM staging.transfers_all_w_year WHERE yr IS NOT NULL ORDER BY y\u001b[39m\u001b[33m\"\u001b[39m).fetchall()\n\u001b[32m     12\u001b[39m     source_view = \u001b[33m\"\u001b[39m\u001b[33mstaging.transfers_all_w_year\u001b[39m\u001b[33m\"\u001b[39m\n",
      "\u001b[31mCatalogException\u001b[39m: Catalog Error: Schema with name staging does not exist!"
     ]
    }
   ],
   "source": [
    "try:\n",
    "    years = con.sql(\n",
    "        \"SELECT DISTINCT CAST(year AS INT) y FROM staging.transfers_all WHERE year IS NOT NULL ORDER BY y\"\n",
    "    ).fetchall()\n",
    "    source_view = \"staging.transfers_all\"\n",
    "    year_col = \"year\"\n",
    "except Exception:\n",
    "    con.sql(\"\"\"\n",
    "        CREATE OR REPLACE VIEW staging.transfers_all_w_year AS\n",
    "        SELECT *, CAST(strftime(try_cast(transfer_date AS DATE), '%Y') AS INT) AS yr\n",
    "        FROM staging.transfers_all\n",
    "    \"\"\")\n",
    "    years = con.sql(\n",
    "        \"SELECT DISTINCT yr AS y FROM staging.transfers_all_w_year WHERE yr IS NOT NULL ORDER BY y\"\n",
    "    ).fetchall()\n",
    "    source_view = \"staging.transfers_all_w_year\"\n",
    "    year_col = \"yr\"\n",
    "\n",
    "con.sql(\"CREATE SCHEMA IF NOT EXISTS marts;\")\n",
    "for (y,) in years:\n",
    "    con.sql(\n",
    "        f\"CREATE OR REPLACE TABLE marts.transfers_{y} AS SELECT * FROM {source_view} WHERE {year_col} = {y}\"\n",
    "    )\n",
    "    print(f\"Created/updated marts.transfers_{y}\")\n",
    "\n",
    "    csv_file_path = f\"./dbt/seeds/split_files/premier_league_{y}.csv\"\n",
    "\n",
    "    try:\n",
    "        con.execute(f\"SELECT * FROM marts.transfers_{y}\")\n",
    "        rows = cur.fetchall()\n",
    "\n",
    "        #     cur.close()\n",
    "        # Continue only if there are rows returned.\n",
    "        if rows:\n",
    "            # New empty list called 'result'. This will be written to a file.\n",
    "            result = list()\n",
    "\n",
    "            # The row name is the first entry for each entity in the description tuple.\n",
    "            column_names = list()\n",
    "            # for i in cur.description:\n",
    "            #     column_names.append(i[0])\n",
    "\n",
    "            result.append(column_names)\n",
    "            for row in rows:\n",
    "                result.append(row)\n",
    "\n",
    "            # Write result to file.\n",
    "            with open(csv_file_path, \"w\", newline=\"\") as csvfile:\n",
    "                csvwriter = csv.writer(\n",
    "                    csvfile, delimiter=\",\", quotechar='\"', quoting=csv.QUOTE_MINIMAL\n",
    "                )\n",
    "                for row in result:\n",
    "                    csvwriter.writerow(row)\n",
    "            print(f\"File {csv_file_path} created\")\n",
    "    except:\n",
    "        sys.exit(f\"No rows found for query: {y}\")\n",
    "    finally:\n",
    "        pass"
   ]
  },
  {
   "cell_type": "code",
   "execution_count": null,
   "id": "81016e73-8412-4f40-b593-995e7c92e089",
   "metadata": {},
   "outputs": [],
   "source": []
  },
  {
   "cell_type": "code",
   "execution_count": null,
   "id": "da5dd1e0-9086-439e-85ea-c1fe23fbe223",
   "metadata": {},
   "outputs": [],
   "source": []
  }
 ],
 "metadata": {
  "kernelspec": {
   "display_name": "Python 3 (ipykernel)",
   "language": "python",
   "name": "python3"
  },
  "language_info": {
   "codemirror_mode": {
    "name": "ipython",
    "version": 3
   },
   "file_extension": ".py",
   "mimetype": "text/x-python",
   "name": "python",
   "nbconvert_exporter": "python",
   "pygments_lexer": "ipython3",
   "version": "3.12.6"
  }
 },
 "nbformat": 4,
 "nbformat_minor": 5
}
